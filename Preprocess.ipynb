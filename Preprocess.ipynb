{
 "cells": [
  {
   "cell_type": "code",
   "execution_count": 1,
   "metadata": {},
   "outputs": [],
   "source": [
    "import numpy as np\n",
    "import os\n",
    "import pandas as pd\n",
    "from datetime import timedelta\n",
    "import xgboost as xgb\n",
    "from xgboost import XGBClassifier\n",
    "import matplotlib.pyplot as plt"
   ]
  },
  {
   "cell_type": "code",
   "execution_count": 2,
   "metadata": {},
   "outputs": [],
   "source": [
    "def process_dur(data):\n",
    "    time_difference = pd.to_datetime(data['set_T'],unit='s')-pd.to_datetime(data['rise_T'],unit='s')\n",
    "    time_difference_in_minutes = time_difference / timedelta(minutes=1)\n",
    "    data['dur']=time_difference_in_minutes\n",
    "    return data"
   ]
  },
  {
   "cell_type": "code",
   "execution_count": 3,
   "metadata": {},
   "outputs": [],
   "source": [
    "def preprocess_xgb(data):\n",
    "    new_data=data.copy()\n",
    "    new_data['month'] = new_data.StartTime.str[5:7]\n",
    "    month_id=['01','02','03','04','05','06','07','08','09','10','11','12']\n",
    "    month_name=['Jan','Feb','Mar','Apr','May','Jun','Jul','Aug','Sep','Oct','Nov','Dec']\n",
    "    sLength = len(new_data.Lse_header)\n",
    "    new_data['month_name'] = pd.Series(np.random.randn(sLength), index=new_data.index)\n",
    "    for k in range(0,12):\n",
    "        new_data.month_name[new_data.month==month_id[k]]=month_name[k]\n",
    "    new_data=new_data.sort_values(by='StartTime')\n",
    "    return new_data"
   ]
  },
  {
   "cell_type": "code",
   "execution_count": 4,
   "metadata": {},
   "outputs": [],
   "source": [
    "def split_test_train_11(new_data,month):\n",
    "    month_col=['Jan','Feb','Mar','Apr','May','Jun','Jul','Aug','Sep','Oct','Nov','Dec']\n",
    "    m_id=month_col.index(month)\n",
    "    i=m_id\n",
    "    train=new_data[new_data['month_name']!=month_col[i]]\n",
    "    train = train.reset_index(drop=True)\n",
    "\n",
    "    test=new_data[new_data['month_name']==month_col[i]]\n",
    "    test = test.reset_index(drop=True)\n",
    "\n",
    "    print('test dimension:')\n",
    "    print(len(test['High']))\n",
    "    print('train dimension:')\n",
    "    print(len(train['High']))\n",
    "    return train,test"
   ]
  },
  {
   "cell_type": "code",
   "execution_count": 5,
   "metadata": {},
   "outputs": [],
   "source": [
    "def split_test_train(new_data,month):\n",
    "    rot_month_id=['01','02','03','04','05','06','07','08','09','10','11','12']\n",
    "    month_col=['Jan','Feb','Mar','Apr','May','Jun','Jul','Aug','Sep','Oct','Nov','Dec']\n",
    "    m_id=month_col.index(month)\n",
    "    rot_month_name=['Oct','Nov','Dec','Jan','Feb','Mar','Apr','May','Jun','Jul','Aug','Sep','Oct','Nov','Dec','Jan','Feb','Mar']\n",
    "    i=m_id+3\n",
    "    data_1=new_data[new_data['month_name']==rot_month_name[i-1]]\n",
    "    data_2=new_data[new_data['month_name']==rot_month_name[i-2]]\n",
    "    data_3=new_data[new_data['month_name']==rot_month_name[i-3]]\n",
    "    data1=new_data[new_data['month_name']==rot_month_name[i+1]]\n",
    "    data2=new_data[new_data['month_name']==rot_month_name[i+2]]\n",
    "    data3=new_data[new_data['month_name']==rot_month_name[i+3]]\n",
    "    train_frame=[data_3,data_2,data_1,data1,data2,data3]\n",
    "    train=pd.concat(train_frame,ignore_index=False)\n",
    "    train = train.reset_index(drop=True)\n",
    "\n",
    "    test=new_data[new_data['month_name']==rot_month_name[i]]\n",
    "    #test_frame=[test_data]\n",
    "    #test=pd.concat(test_frame,ignore_index=True)\n",
    "    test = test.reset_index(drop=True)\n",
    "\n",
    "\n",
    "    print('test dimension:')\n",
    "    print(len(test['High']))\n",
    "    print('train dimension:')\n",
    "    print(len(train['High']))\n",
    "    return train,test"
   ]
  },
  {
   "cell_type": "code",
   "execution_count": 6,
   "metadata": {},
   "outputs": [],
   "source": [
    "def main(data,month):\n",
    "    data=process_dur(data)\n",
    "    new_data=preprocess_xgb(data)\n",
    "    month='Jan'\n",
    "    train,test = split_test_train_11(new_data,month)\n",
    "    return train,test"
   ]
  },
  {
   "cell_type": "code",
   "execution_count": null,
   "metadata": {},
   "outputs": [],
   "source": []
  }
 ],
 "metadata": {
  "kernelspec": {
   "display_name": "Python 3",
   "language": "python",
   "name": "python3"
  },
  "language_info": {
   "codemirror_mode": {
    "name": "ipython",
    "version": 3
   },
   "file_extension": ".py",
   "mimetype": "text/x-python",
   "name": "python",
   "nbconvert_exporter": "python",
   "pygments_lexer": "ipython3",
   "version": "3.6.5"
  }
 },
 "nbformat": 4,
 "nbformat_minor": 2
}
