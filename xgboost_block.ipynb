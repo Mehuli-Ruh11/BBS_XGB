{
 "cells": [
  {
   "cell_type": "code",
   "execution_count": 134,
   "metadata": {},
   "outputs": [],
   "source": [
    "import numpy as np\n",
    "import os\n",
    "import pandas as pd\n",
    "from datetime import timedelta\n",
    "import xgboost as xgb\n",
    "from xgboost import XGBClassifier\n",
    "import matplotlib.pyplot as plt"
   ]
  },
  {
   "cell_type": "code",
   "execution_count": 135,
   "metadata": {},
   "outputs": [],
   "source": [
    "def get_filename_list(my_dir):\n",
    "    import os\n",
    "    a=[]\n",
    "    for root, dirs, files in os.walk(my_dir):\n",
    "        for name in files:\n",
    "            if name.endswith((\".csv\")):\n",
    "                new_name=os.path.join(root,name)\n",
    "                #new_name=dirs+name\n",
    "                a.append(new_name)\n",
    "    return a"
   ]
  },
  {
   "cell_type": "code",
   "execution_count": 136,
   "metadata": {},
   "outputs": [],
   "source": [
    "def process_dur(data):\n",
    "    time_difference = pd.to_datetime(data['set_T'],unit='s')-pd.to_datetime(data['rise_T'],unit='s')\n",
    "    time_difference_in_minutes = time_difference / timedelta(minutes=1)\n",
    "    data['dur']=time_difference_in_minutes\n",
    "    return data\n"
   ]
  },
  {
   "cell_type": "code",
   "execution_count": 137,
   "metadata": {},
   "outputs": [],
   "source": [
    "def preprocess_xgb(data):\n",
    "    new_data=data.copy()\n",
    "    new_data['month'] = new_data.StartTime.str[5:7]\n",
    "    month_id=['01','02','03','04','05','06','07','08','09','10','11','12']\n",
    "    month_name=['Jan','Feb','Mar','Apr','May','Jun','Jul','Aug','Sep','Oct','Nov','Dec']\n",
    "    sLength = len(new_data.Lse_header)\n",
    "    new_data['month_name'] = pd.Series(np.random.randn(sLength), index=new_data.index)\n",
    "    for k in range(0,12):\n",
    "        new_data.month_name[new_data.month==month_id[k]]=month_name[k]\n",
    "    new_data=new_data.sort_values(by='StartTime')\n",
    "    return new_data"
   ]
  },
  {
   "cell_type": "code",
   "execution_count": 138,
   "metadata": {},
   "outputs": [],
   "source": [
    "def split_test_train(new_data,month):\n",
    "    rot_month_id=['01','02','03','04','05','06','07','08','09','10','11','12']\n",
    "    month_col=['Jan','Feb','Mar','Apr','May','Jun','Jul','Aug','Sep','Oct','Nov','Dec']\n",
    "    m_id=month_col.index(month)\n",
    "    rot_month_name=['Oct','Nov','Dec','Jan','Feb','Mar','Apr','May','Jun','Jul','Aug','Sep','Oct','Nov','Dec','Jan','Feb','Mar']\n",
    "    i=m_id+3\n",
    "    data_1=new_data[new_data['month_name']==rot_month_name[i-1]]\n",
    "    data_2=new_data[new_data['month_name']==rot_month_name[i-2]]\n",
    "    data_3=new_data[new_data['month_name']==rot_month_name[i-3]]\n",
    "    data1=new_data[new_data['month_name']==rot_month_name[i+1]]\n",
    "    data2=new_data[new_data['month_name']==rot_month_name[i+2]]\n",
    "    data3=new_data[new_data['month_name']==rot_month_name[i+3]]\n",
    "    train_frame=[data_3,data_2,data_1,data1,data2,data3]\n",
    "    train=pd.concat(train_frame,ignore_index=False)\n",
    "    train = train.reset_index(drop=True)\n",
    "\n",
    "    test=new_data[new_data['month_name']==rot_month_name[i]]\n",
    "    #test_frame=[test_data]\n",
    "    #test=pd.concat(test_frame,ignore_index=True)\n",
    "    test = test.reset_index(drop=True)\n",
    "\n",
    "\n",
    "    print('test dimension:')\n",
    "    print(len(test['High']))\n",
    "    print('train dimension:')\n",
    "    print(len(train['High']))\n",
    "    return train,test"
   ]
  },
  {
   "cell_type": "code",
   "execution_count": 139,
   "metadata": {},
   "outputs": [],
   "source": [
    "def process_train_test(train,test):\n",
    "    Ytrain=train['daily_consumption']\n",
    "    Xtrain=train.drop(['daily_consumption'], axis=1)\n",
    "    Xtrain=Xtrain.drop(['TDSPName','ServiceZip','LseHeaderID','StartTime','StopTime','Lse_header','month','month_name','rise_T','set_T'], axis=1)\n",
    "    Ytest=test['daily_consumption']\n",
    "    Xtest=test.drop(['daily_consumption'], axis=1)\n",
    "    Xtest=Xtest.drop(['TDSPName','ServiceZip','LseHeaderID','StartTime','StopTime','Lse_header','month','month_name','rise_T','set_T'], axis=1)\n",
    "    return Xtrain,Xtest,Ytrain,Ytest"
   ]
  },
  {
   "cell_type": "code",
   "execution_count": 140,
   "metadata": {},
   "outputs": [],
   "source": [
    "def run_classifier(train,test):\n",
    "    Ytrain=train['daily_consumption']\n",
    "    Xtrain=train.drop(['daily_consumption'], axis=1)\n",
    "    Xtrain=Xtrain.drop(['TDSPName','ServiceZip','LseHeaderID','StartTime','StopTime','Lse_header','month','month_name','rise_T','set_T'], axis=1)\n",
    "    Ytest=test['daily_consumption']\n",
    "    Xtest=test.drop(['daily_consumption'], axis=1)\n",
    "    Xtest=Xtest.drop(['TDSPName','ServiceZip','LseHeaderID','StartTime','StopTime','Lse_header','month','month_name','rise_T','set_T'], axis=1)\n",
    "    \n",
    "    dtrain = xgb.DMatrix(Xtrain,label=Ytrain)\n",
    "    dtest = xgb.DMatrix(Xtest,label=Ytest)\n",
    "    # specify parameters via map\n",
    "    #param = {'max_depth':21, 'eta':0.07, 'nthread' : 8,'silent':1, 'objective':'reg:linear' ,'gamma' : 0}\n",
    "    param = {'max_depth':21, 'eta':0.07, 'nthread' : 8,'silent':1, 'objective':'reg:linear' ,'gamma' : 0, 'nthread' :8, 'min_child_weight': 8, 'subsample': 0.95, 'colsample_bytree': 0.7, 'alpha': 0,'lambda': 0}\n",
    "\n",
    "    num_round = 100\n",
    "    bst = xgb.train(param, dtrain, num_round)\n",
    "    # make prediction\n",
    "    preds = bst.predict(dtest)\n",
    "    \n",
    "    return preds,Ytest"
   ]
  },
  {
   "cell_type": "code",
   "execution_count": 141,
   "metadata": {},
   "outputs": [],
   "source": [
    "def plot_prediction(preds,Ytest,file_name):\n",
    "    file1 = get_file(file_name)\n",
    "    plt.plot( Ytest, marker='', markerfacecolor='blue', markersize=12, color='skyblue', linewidth=4,label=\"actual\")\n",
    "    plt.plot( preds, marker='', color='olive',markersize=12, linewidth=2, label=\"prediction\")\n",
    "    plt.ylabel('daily consumption (KWH)')\n",
    "    plt.xlabel('day_index')\n",
    "    plt.title('consumption profile actual and prediction')\n",
    "    plt.savefig(file1)\n",
    "    plt.legend()"
   ]
  },
  {
   "cell_type": "code",
   "execution_count": 148,
   "metadata": {},
   "outputs": [],
   "source": [
    "def get_file(file_name):\n",
    "    n_file=file_name[42:-4]\n",
    "    list1=['C:/Users/ruchi/Desktop/Predictions/',n_file,'_plot_prediction.png']\n",
    "    file1=''.join(list1)\n",
    "    return file1"
   ]
  },
  {
   "cell_type": "code",
   "execution_count": 149,
   "metadata": {},
   "outputs": [],
   "source": [
    "def get_accuracy(preds,Ytest):\n",
    "    accuracy=np.abs(np.sum(Ytest)-np.sum(preds))/np.sum(Ytest)\n",
    "    print(\"Accuracy: %.3f\" % ((1-accuracy) * 100.0))"
   ]
  },
  {
   "cell_type": "code",
   "execution_count": 150,
   "metadata": {},
   "outputs": [
    {
     "name": "stderr",
     "output_type": "stream",
     "text": [
      "C:\\Users\\ruchi\\Anaconda3\\lib\\site-packages\\ipykernel_launcher.py:9: SettingWithCopyWarning: \n",
      "A value is trying to be set on a copy of a slice from a DataFrame\n",
      "\n",
      "See the caveats in the documentation: http://pandas.pydata.org/pandas-docs/stable/indexing.html#indexing-view-versus-copy\n",
      "  if __name__ == '__main__':\n",
      "C:\\Users\\ruchi\\Anaconda3\\lib\\site-packages\\ipykernel_launcher.py:9: SettingWithCopyWarning: \n",
      "A value is trying to be set on a copy of a slice from a DataFrame\n",
      "\n",
      "See the caveats in the documentation: http://pandas.pydata.org/pandas-docs/stable/indexing.html#indexing-view-versus-copy\n",
      "  if __name__ == '__main__':\n"
     ]
    },
    {
     "name": "stdout",
     "output_type": "stream",
     "text": [
      "test dimension:\n",
      "31\n",
      "train dimension:\n",
      "181\n",
      "Accuracy: 91.115\n"
     ]
    },
    {
     "data": {
      "image/png": "[encoded data removed]",
      "text/plain": [
       "<Figure size 432x288 with 1 Axes>"
      ]
     },
     "metadata": {},
     "output_type": "display_data"
    }
   ],
   "source": [
    "my_dir= \"C:/Users/ruchi/Desktop/WeatherData/\"\n",
    "filenames=get_filename_list(my_dir)\n",
    "f=filenames[0]\n",
    "data=pd.read_csv(f)\n",
    "data=process_dur(data)\n",
    "new_data=preprocess_xgb(data)\n",
    "\n",
    "month='Jan'\n",
    "train,test = split_test_train(new_data,month)\n",
    "Xtrain,Xtest,Ytrain,Ytest = process_train_test(train,test)\n",
    "preds,Ytest = run_classifier(train,test)\n",
    "plot_prediction(preds,Ytest,f)\n",
    "get_accuracy(preds,Ytest)"
   ]
  },
  {
   "cell_type": "code",
   "execution_count": null,
   "metadata": {},
   "outputs": [],
   "source": []
  }
 ],
 "metadata": {
  "kernelspec": {
   "display_name": "Python 3",
   "language": "python",
   "name": "python3"
  },
  "language_info": {
   "codemirror_mode": {
    "name": "ipython",
    "version": 3
   },
   "file_extension": ".py",
   "mimetype": "text/x-python",
   "name": "python",
   "nbconvert_exporter": "python",
   "pygments_lexer": "ipython3",
   "version": "3.6.5"
  }
 },
 "nbformat": 4,
 "nbformat_minor": 2
}
