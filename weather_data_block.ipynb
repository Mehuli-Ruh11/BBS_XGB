{
 "cells": [
  {
   "cell_type": "code",
   "execution_count": 1,
   "metadata": {},
   "outputs": [],
   "source": [
    "from datetime import datetime as dt\n",
    "import psycopg2\n",
    "import sys\n",
    "import pandas as pd\n",
    "import numpy as np"
   ]
  },
  {
   "cell_type": "code",
   "execution_count": 2,
   "metadata": {},
   "outputs": [],
   "source": [
    "def get_filename_list(my_dir):\n",
    "    import os\n",
    "    a=[]\n",
    "    for root, dirs, files in os.walk(my_dir):\n",
    "        for name in files:\n",
    "            if name.endswith((\".txt\")):\n",
    "                new_name=os.path.join(root,name)\n",
    "                #new_name=dirs+name\n",
    "                a.append(new_name)\n",
    "    return a"
   ]
  },
  {
   "cell_type": "code",
   "execution_count": 3,
   "metadata": {},
   "outputs": [],
   "source": [
    "def get_address(ESIID):\n",
    "    import psycopg2\n",
    "    import sys\n",
    "    import pandas as pd\n",
    "    import numpy as np\n",
    "\n",
    "    conn_string=\"host='localhost' dbname='BBS' user='postgres' password='Azurarai1994'\"\n",
    "    conn=psycopg2.connect(conn_string)\n",
    "    cursor=conn.cursor()\n",
    "    #Run SQL query\n",
    "    command=\"\"\" SELECT *\n",
    "    FROM public.\"CustomerRawData\"\n",
    "    WHERE \"PremiseID\"= '%s' \"\"\" %(ESIID)\n",
    "\n",
    "    cursor.execute(command)\n",
    "    conn.commit()\n",
    "\n",
    "    #get record\n",
    "\n",
    "    rec_consumption=cursor.fetchall()\n",
    "    colnames = [desc[0] for desc in cursor.description]\n",
    "\n",
    "    # convert to dataframe\n",
    "\n",
    "    df1=pd.DataFrame(rec_consumption,columns=colnames)\n",
    "    my_list=[df1.ServiceAddress[0],  df1.ServiceCity[0]]\n",
    "    #my_address=' '.join(my_list)\n",
    "    my_address=df1.ServiceAddress[0]\n",
    "    city=df1.ServiceCity[0]\n",
    "    \n",
    "    return my_address,city\n",
    "\n"
   ]
  },
  {
   "cell_type": "code",
   "execution_count": 4,
   "metadata": {},
   "outputs": [],
   "source": [
    "def get_location(address,city):\n",
    "    from geopy.geocoders import GoogleV3\n",
    "    citylist=[\"%s,\",city]\n",
    "    citystring=' '.join(citylist)\n",
    "    geolocator = GoogleV3(format_string=citystring)\n",
    "    address, (latitude, longitude) = geolocator.geocode(address)\n",
    "    #print(address, latitude, longitude)\n",
    "    return latitude,longitude"
   ]
  },
  {
   "cell_type": "code",
   "execution_count": 1,
   "metadata": {},
   "outputs": [],
   "source": [
    "def get_weather(lat,lng,date):\n",
    "    from darksky import forecast\n",
    "\n",
    "    api_key = \"83d639036099d4e5b4511f2df73f8ffb\"\n",
    "    PLACE = api_key, lat, lng\n",
    "    my_forecast = forecast(*PLACE, time = date)\n",
    "    return my_forecast\n"
   ]
  },
  {
   "cell_type": "code",
   "execution_count": 6,
   "metadata": {},
   "outputs": [],
   "source": [
    "def weather_data(data,my_address,city):\n",
    "    High=[]\n",
    "    Low=[]\n",
    "    humid=[]\n",
    "    rise_T=[]\n",
    "    set_T=[]\n",
    "\n",
    "    [lat,lng]=get_location(my_address,city)\n",
    "\n",
    "    for i in range(0,len(data['StartTime'])):\n",
    "        my_date=dt.strptime(data.StartTime[i], '%Y-%m-%d %H:%M:%S')\n",
    "        my_date=my_date.isoformat()\n",
    "        my_forecast = get_weather(lat,lng,my_date)\n",
    "\n",
    "        High.append(my_forecast['daily']['data'][0]['temperatureHigh'])\n",
    "        Low.append(my_forecast['daily']['data'][0]['temperatureLow'])\n",
    "        humid.append(my_forecast['daily']['data'][0]['humidity'])\n",
    "        rise_T.append(my_forecast['daily']['data'][0]['sunriseTime'])\n",
    "        set_T.append(my_forecast['daily']['data'][0]['sunsetTime'])\n",
    "\n",
    "\n",
    "    #if(\"cloudCover\" %in% colnames(fore_cast.daily)){cloudy[i]=fore_cast.daily.cloudCover}else{cloudy[i]='NA'}\n",
    "    data['High']= High\n",
    "    data['Low']= Low\n",
    "    data['humid']=humid\n",
    "    data['rise_T']=rise_T\n",
    "    data['set_T']=set_T\n",
    "    \n",
    "    return data"
   ]
  },
  {
   "cell_type": "code",
   "execution_count": 7,
   "metadata": {},
   "outputs": [],
   "source": [
    "def get_weather_data(filename):\n",
    "    import pandas as pd\n",
    "    data=pd.read_csv(filename)\n",
    "    ESIID=filename[57:-4]\n",
    "    my_address,city=get_address(ESIID)\n",
    "    new_data=weather_data(data,my_address,city)\n",
    "    fs=['C:/Users/ruchi/Desktop/WeatherData/weather_for_',ESIID,'.csv']\n",
    "    file_save=''.join(fs)\n",
    "    new_data.to_dense().to_csv(file_save, index = False, sep=',', encoding='utf-8') \n",
    "    return new_data"
   ]
  },
  {
   "cell_type": "code",
   "execution_count": null,
   "metadata": {},
   "outputs": [],
   "source": [
    "my_dir = \"C:/Users/ruchi/Desktop/Result1/C100_RES/\"\n",
    "fnames = get_filename_list(my_dir)\n",
    "for i in range(91,101):\n",
    "    f=fnames[i]\n",
    "    wthr_data= get_weather_data(f)\n",
    "    "
   ]
  }
 ],
 "metadata": {
  "kernelspec": {
   "display_name": "Python 3",
   "language": "python",
   "name": "python3"
  },
  "language_info": {
   "codemirror_mode": {
    "name": "ipython",
    "version": 3
   },
   "file_extension": ".py",
   "mimetype": "text/x-python",
   "name": "python",
   "nbconvert_exporter": "python",
   "pygments_lexer": "ipython3",
   "version": "3.6.5"
  }
 },
 "nbformat": 4,
 "nbformat_minor": 2
}
